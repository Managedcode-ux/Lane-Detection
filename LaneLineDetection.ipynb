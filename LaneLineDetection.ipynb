{
  "nbformat": 4,
  "nbformat_minor": 0,
  "metadata": {
    "colab": {
      "name": "lane_detection_final_submission.ipynb",
      "provenance": [],
      "collapsed_sections": []
    },
    "kernelspec": {
      "name": "python3",
      "display_name": "Python 3"
    }
  },
  "cells": [
    {
      "cell_type": "markdown",
      "metadata": {
        "id": "XAdD42-iY1Zo"
      },
      "source": [
        "***Name***:- Mayank Mehra\n",
        "\n",
        "***University Roll No***:- 2013687\n",
        "\n",
        "***class Roll No*** :- 34\n",
        "\n",
        "***Section***:- ML"
      ]
    },
    {
      "cell_type": "code",
      "metadata": {
        "id": "TdIYy0dhYNZh"
      },
      "source": [
        "import cv2\n",
        "import numpy as np\n",
        "import matplotlib.pyplot as plt\n",
        "from google.colab.patches import cv2_imshow\n",
        "from moviepy.editor import VideoFileClip\n",
        "from IPython.display import HTML"
      ],
      "execution_count": 4,
      "outputs": []
    },
    {
      "cell_type": "code",
      "metadata": {
        "id": "FJthr44DdOmn",
        "colab": {
          "base_uri": "https://localhost:8080/",
          "height": 402
        },
        "outputId": "796d018b-5c34-4aed-8c3f-b79a877e3357"
      },
      "source": [
        "def make_coordinates(image, line_parameters):\n",
        "  slope, intercept = line_parameters\n",
        "  y1 = image.shape[0]\n",
        "  y2 = int(y1*(3/5))\n",
        "  x1 = int((y1 - intercept)/slope)\n",
        "  x2 = int((y2 - intercept)/slope)\n",
        "  return np.array([x1,y1,x2,y2])\n",
        "\n",
        "\n",
        "def average_slope_intercept(image, lines):\n",
        "  left_fit = []\n",
        "  right_fit = []\n",
        "  for line in lines:\n",
        "    x1,y1,x2,y2 = line.reshape(4)\n",
        "    parameters = np.polyfit((x1,x2),(y1,y2),1)\n",
        "    slope = parameters[0]\n",
        "    intercept = parameters[1]\n",
        "    if slope < 0:\n",
        "      left_fit.append((slope,intercept)) \n",
        "    else:\n",
        "      right_fit.append((slope,intercept))\n",
        "  left_fit_average = np.average(left_fit, axis =0)\n",
        "  right_fit_average = np.average(right_fit, axis =0)\n",
        "  left_line = make_coordinates(image, left_fit_average)\n",
        "  right_line = make_coordinates(image, right_fit_average)\n",
        "  return np.array([left_line , right_line])\n",
        "\n",
        "def canny(image):\n",
        "  gray = cv2.cvtColor(image,cv2.COLOR_RGB2GRAY)\n",
        "  blur = cv2.GaussianBlur(gray, (5,5) ,0)\n",
        "  canny = cv2.Canny(blur,50,150)\n",
        "  return canny\n",
        "\n",
        "def display_lines(image, lines):\n",
        "   line_image = np.zeros_like(image)\n",
        "   if lines is not None:\n",
        "     for x1,y1,x2,y2 in lines:\n",
        "       cv2.line(line_image, (x1,y1), (x2,y2), (255,0 , 200), 10)\n",
        "   return line_image    \n",
        "\n",
        "def region_of_interest(image):\n",
        "  height = image.shape[0]\n",
        "  polygons = np.array([\n",
        "                       [(200, height),(1100, height),(550 , 250)]\n",
        "                       ])\n",
        "  mask = np.zeros_like(image)  \n",
        "  cv2.fillPoly(mask, polygons , 255)\n",
        "  masked_image = cv2.bitwise_and(image, mask)\n",
        "  return masked_image  \n",
        "\n",
        "\n",
        "cap = cv2.VideoCapture(\"/content/test2.mp4\")\n",
        "ret,frame = cap.read()\n",
        "frame_height,frame_width,_ = frame.shape\n",
        "out = cv2.VideoWriter('output.avi',cv2.VideoWriter_fourcc(\"M\",\"J\",\"P\",\"G\"),10,(frame_width,frame_height)) \n",
        "print('processing')\n",
        "while(cap.isOpened()):\n",
        "  _ , frame = cap.read()\n",
        "  canny_image = canny(frame)\n",
        "  \n",
        "  cropped_image = region_of_interest(canny_image)\n",
        "  \n",
        "  lines = cv2.HoughLinesP(cropped_image, 2, np.pi/180, 100, np.array([]), minLineLength = 40, maxLineGap = 5)\n",
        "  \n",
        "  averaged_lines = average_slope_intercept(frame, lines)\n",
        "  \n",
        "  line_image = display_lines(frame, averaged_lines)\n",
        "  \n",
        "  combo_image = cv2.addWeighted(frame, 0.8, line_image, 1,1)\n",
        "  #cv2_imshow(combo_image)\n",
        "  if cv2.waitKey(1) == ord ('q'):\n",
        "    break\n",
        "  output = combo_image\n",
        "  out.write(output)  \n",
        "cap.release()\n",
        "cv2.distroyAllWindows()"
      ],
      "execution_count": 5,
      "outputs": [
        {
          "output_type": "stream",
          "text": [
            "processing\n"
          ],
          "name": "stdout"
        },
        {
          "output_type": "error",
          "ename": "TypeError",
          "evalue": "ignored",
          "traceback": [
            "\u001b[0;31m---------------------------------------------------------------------------\u001b[0m",
            "\u001b[0;31mTypeError\u001b[0m                                 Traceback (most recent call last)",
            "\u001b[0;32m<ipython-input-5-11103a8d276b>\u001b[0m in \u001b[0;36m<module>\u001b[0;34m()\u001b[0m\n\u001b[1;32m     63\u001b[0m   \u001b[0mlines\u001b[0m \u001b[0;34m=\u001b[0m \u001b[0mcv2\u001b[0m\u001b[0;34m.\u001b[0m\u001b[0mHoughLinesP\u001b[0m\u001b[0;34m(\u001b[0m\u001b[0mcropped_image\u001b[0m\u001b[0;34m,\u001b[0m \u001b[0;36m2\u001b[0m\u001b[0;34m,\u001b[0m \u001b[0mnp\u001b[0m\u001b[0;34m.\u001b[0m\u001b[0mpi\u001b[0m\u001b[0;34m/\u001b[0m\u001b[0;36m180\u001b[0m\u001b[0;34m,\u001b[0m \u001b[0;36m100\u001b[0m\u001b[0;34m,\u001b[0m \u001b[0mnp\u001b[0m\u001b[0;34m.\u001b[0m\u001b[0marray\u001b[0m\u001b[0;34m(\u001b[0m\u001b[0;34m[\u001b[0m\u001b[0;34m]\u001b[0m\u001b[0;34m)\u001b[0m\u001b[0;34m,\u001b[0m \u001b[0mminLineLength\u001b[0m \u001b[0;34m=\u001b[0m \u001b[0;36m40\u001b[0m\u001b[0;34m,\u001b[0m \u001b[0mmaxLineGap\u001b[0m \u001b[0;34m=\u001b[0m \u001b[0;36m5\u001b[0m\u001b[0;34m)\u001b[0m\u001b[0;34m\u001b[0m\u001b[0;34m\u001b[0m\u001b[0m\n\u001b[1;32m     64\u001b[0m \u001b[0;34m\u001b[0m\u001b[0m\n\u001b[0;32m---> 65\u001b[0;31m   \u001b[0maveraged_lines\u001b[0m \u001b[0;34m=\u001b[0m \u001b[0maverage_slope_intercept\u001b[0m\u001b[0;34m(\u001b[0m\u001b[0mframe\u001b[0m\u001b[0;34m,\u001b[0m \u001b[0mlines\u001b[0m\u001b[0;34m)\u001b[0m\u001b[0;34m\u001b[0m\u001b[0;34m\u001b[0m\u001b[0m\n\u001b[0m\u001b[1;32m     66\u001b[0m \u001b[0;34m\u001b[0m\u001b[0m\n\u001b[1;32m     67\u001b[0m   \u001b[0mline_image\u001b[0m \u001b[0;34m=\u001b[0m \u001b[0mdisplay_lines\u001b[0m\u001b[0;34m(\u001b[0m\u001b[0mframe\u001b[0m\u001b[0;34m,\u001b[0m \u001b[0maveraged_lines\u001b[0m\u001b[0;34m)\u001b[0m\u001b[0;34m\u001b[0m\u001b[0;34m\u001b[0m\u001b[0m\n",
            "\u001b[0;32m<ipython-input-5-11103a8d276b>\u001b[0m in \u001b[0;36maverage_slope_intercept\u001b[0;34m(image, lines)\u001b[0m\n\u001b[1;32m     22\u001b[0m   \u001b[0mleft_fit_average\u001b[0m \u001b[0;34m=\u001b[0m \u001b[0mnp\u001b[0m\u001b[0;34m.\u001b[0m\u001b[0maverage\u001b[0m\u001b[0;34m(\u001b[0m\u001b[0mleft_fit\u001b[0m\u001b[0;34m,\u001b[0m \u001b[0maxis\u001b[0m \u001b[0;34m=\u001b[0m\u001b[0;36m0\u001b[0m\u001b[0;34m)\u001b[0m\u001b[0;34m\u001b[0m\u001b[0;34m\u001b[0m\u001b[0m\n\u001b[1;32m     23\u001b[0m   \u001b[0mright_fit_average\u001b[0m \u001b[0;34m=\u001b[0m \u001b[0mnp\u001b[0m\u001b[0;34m.\u001b[0m\u001b[0maverage\u001b[0m\u001b[0;34m(\u001b[0m\u001b[0mright_fit\u001b[0m\u001b[0;34m,\u001b[0m \u001b[0maxis\u001b[0m \u001b[0;34m=\u001b[0m\u001b[0;36m0\u001b[0m\u001b[0;34m)\u001b[0m\u001b[0;34m\u001b[0m\u001b[0;34m\u001b[0m\u001b[0m\n\u001b[0;32m---> 24\u001b[0;31m   \u001b[0mleft_line\u001b[0m \u001b[0;34m=\u001b[0m \u001b[0mmake_coordinates\u001b[0m\u001b[0;34m(\u001b[0m\u001b[0mimage\u001b[0m\u001b[0;34m,\u001b[0m \u001b[0mleft_fit_average\u001b[0m\u001b[0;34m)\u001b[0m\u001b[0;34m\u001b[0m\u001b[0;34m\u001b[0m\u001b[0m\n\u001b[0m\u001b[1;32m     25\u001b[0m   \u001b[0mright_line\u001b[0m \u001b[0;34m=\u001b[0m \u001b[0mmake_coordinates\u001b[0m\u001b[0;34m(\u001b[0m\u001b[0mimage\u001b[0m\u001b[0;34m,\u001b[0m \u001b[0mright_fit_average\u001b[0m\u001b[0;34m)\u001b[0m\u001b[0;34m\u001b[0m\u001b[0;34m\u001b[0m\u001b[0m\n\u001b[1;32m     26\u001b[0m   \u001b[0;32mreturn\u001b[0m \u001b[0mnp\u001b[0m\u001b[0;34m.\u001b[0m\u001b[0marray\u001b[0m\u001b[0;34m(\u001b[0m\u001b[0;34m[\u001b[0m\u001b[0mleft_line\u001b[0m \u001b[0;34m,\u001b[0m \u001b[0mright_line\u001b[0m\u001b[0;34m]\u001b[0m\u001b[0;34m)\u001b[0m\u001b[0;34m\u001b[0m\u001b[0;34m\u001b[0m\u001b[0m\n",
            "\u001b[0;32m<ipython-input-5-11103a8d276b>\u001b[0m in \u001b[0;36mmake_coordinates\u001b[0;34m(image, line_parameters)\u001b[0m\n\u001b[1;32m      1\u001b[0m \u001b[0;32mdef\u001b[0m \u001b[0mmake_coordinates\u001b[0m\u001b[0;34m(\u001b[0m\u001b[0mimage\u001b[0m\u001b[0;34m,\u001b[0m \u001b[0mline_parameters\u001b[0m\u001b[0;34m)\u001b[0m\u001b[0;34m:\u001b[0m\u001b[0;34m\u001b[0m\u001b[0;34m\u001b[0m\u001b[0m\n\u001b[0;32m----> 2\u001b[0;31m   \u001b[0mslope\u001b[0m\u001b[0;34m,\u001b[0m \u001b[0mintercept\u001b[0m \u001b[0;34m=\u001b[0m \u001b[0mline_parameters\u001b[0m\u001b[0;34m\u001b[0m\u001b[0;34m\u001b[0m\u001b[0m\n\u001b[0m\u001b[1;32m      3\u001b[0m   \u001b[0my1\u001b[0m \u001b[0;34m=\u001b[0m \u001b[0mimage\u001b[0m\u001b[0;34m.\u001b[0m\u001b[0mshape\u001b[0m\u001b[0;34m[\u001b[0m\u001b[0;36m0\u001b[0m\u001b[0;34m]\u001b[0m\u001b[0;34m\u001b[0m\u001b[0;34m\u001b[0m\u001b[0m\n\u001b[1;32m      4\u001b[0m   \u001b[0my2\u001b[0m \u001b[0;34m=\u001b[0m \u001b[0mint\u001b[0m\u001b[0;34m(\u001b[0m\u001b[0my1\u001b[0m\u001b[0;34m*\u001b[0m\u001b[0;34m(\u001b[0m\u001b[0;36m3\u001b[0m\u001b[0;34m/\u001b[0m\u001b[0;36m5\u001b[0m\u001b[0;34m)\u001b[0m\u001b[0;34m)\u001b[0m\u001b[0;34m\u001b[0m\u001b[0;34m\u001b[0m\u001b[0m\n\u001b[1;32m      5\u001b[0m   \u001b[0mx1\u001b[0m \u001b[0;34m=\u001b[0m \u001b[0mint\u001b[0m\u001b[0;34m(\u001b[0m\u001b[0;34m(\u001b[0m\u001b[0my1\u001b[0m \u001b[0;34m-\u001b[0m \u001b[0mintercept\u001b[0m\u001b[0;34m)\u001b[0m\u001b[0;34m/\u001b[0m\u001b[0mslope\u001b[0m\u001b[0;34m)\u001b[0m\u001b[0;34m\u001b[0m\u001b[0;34m\u001b[0m\u001b[0m\n",
            "\u001b[0;31mTypeError\u001b[0m: 'numpy.float64' object is not iterable"
          ]
        }
      ]
    },
    {
      "cell_type": "code",
      "metadata": {
        "id": "lKT2iR3CU13F"
      },
      "source": [
        ""
      ],
      "execution_count": null,
      "outputs": []
    }
  ]
}